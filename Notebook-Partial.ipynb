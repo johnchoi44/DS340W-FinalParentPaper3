{
  "nbformat": 4,
  "nbformat_minor": 0,
  "metadata": {
    "colab": {
      "provenance": [],
      "toc_visible": true
    },
    "kernelspec": {
      "name": "python3",
      "display_name": "Python 3"
    },
    "language_info": {
      "name": "python"
    }
  },
  "cells": [
    {
      "cell_type": "markdown",
      "source": [
        "## ML Modelling"
      ],
      "metadata": {
        "id": "2d4S36U958Me"
      }
    },
    {
      "cell_type": "markdown",
      "source": [
        "### Data prep"
      ],
      "metadata": {
        "id": "42eOdCyXJ9Bj"
      }
    },
    {
      "cell_type": "code",
      "source": [
        "import pandas as pd\n",
        "import numpy as np\n",
        "import matplotlib.pyplot as plt\n",
        "import seaborn as seabornInstance\n",
        "from sklearn.model_selection import train_test_split\n",
        "from sklearn.linear_model import LinearRegression\n",
        "from sklearn import metrics\n",
        "%matplotlib inline\n",
        "\n",
        "from sklearn.impute import SimpleImputer\n",
        "from sklearn.preprocessing import PolynomialFeatures\n",
        "from sklearn.preprocessing import StandardScaler\n",
        "from sklearn.feature_selection import VarianceThreshold\n",
        "from sklearn.feature_selection import SelectFromModel\n",
        "from sklearn.utils import shuffle\n",
        "from sklearn.ensemble import RandomForestClassifier\n",
        "import plotly.express as px\n",
        "import missingno as msno\n",
        "import math\n",
        "import sys\n",
        "import os.path\n",
        "import numpy as np\n",
        "import pandas as pd\n",
        "import matplotlib.pyplot as plt\n",
        "import seaborn as sns\n",
        "from sklearn.model_selection import train_test_split\n",
        "from sklearn import tree\n",
        "from sklearn import metrics\n",
        "import missingno as msno  # Visualize missing values\n",
        "import plotly.graph_objects as go\n",
        "import plotly.express as px\n",
        "from plotly.subplots import make_subplots\n",
        "from sklearn.model_selection import GridSearchCV, RandomizedSearchCV, train_test_split\n",
        "from sklearn.tree import DecisionTreeClassifier # Import Decision Tree Classifier\n",
        "from sklearn.model_selection import train_test_split # Import train_test_split function\n",
        "from sklearn import metrics #Import scikit-learn metrics module for accuracy calculation\n",
        "from xgboost import XGBClassifier\n",
        "from sklearn.linear_model import LogisticRegression\n",
        "from sklearn.metrics import confusion_matrix, f1_score, accuracy_score\n",
        "from sklearn.metrics import precision_score, recall_score, roc_auc_score\n",
        "from natsort import index_natsorted\n",
        "from sklearn.ensemble import VotingClassifier\n",
        "from pandas_profiling import ProfileReport\n",
        "from sklearn.preprocessing import LabelEncoder\n",
        "from sklearn.model_selection import train_test_split\n",
        "from xgboost import XGBClassifier\n",
        "from sklearn.model_selection import GridSearchCV\n",
        "from sklearn.ensemble import RandomForestRegressor\n",
        "from sklearn.linear_model import LinearRegression\n",
        "from sklearn.linear_model import Lasso\n",
        "from sklearn.metrics import mean_squared_error, r2_score\n",
        "from sklearn.metrics import max_error\n",
        "\n",
        "# setting option to view all column and rows, no limit\n",
        "pd.options.display.max_columns = None\n",
        "pd.options.display.max_rows = None"
      ],
      "metadata": {
        "id": "L2aRedNXHESA"
      },
      "execution_count": null,
      "outputs": []
    },
    {
      "cell_type": "code",
      "source": [
        "crime_camden = pd.read_csv('data/new/crime_camden_final_dataset.csv')"
      ],
      "metadata": {
        "id": "WAttHO8S57sy"
      },
      "execution_count": null,
      "outputs": []
    },
    {
      "cell_type": "code",
      "source": [
        "crime_camden.info()"
      ],
      "metadata": {
        "id": "GDoBcGtJ8tlr"
      },
      "execution_count": null,
      "outputs": []
    },
    {
      "cell_type": "code",
      "source": [
        "crime_camden.fillna(method='ffill', inplace = True)\n",
        "crime_camden.fillna(method='bfill', inplace = True)"
      ],
      "metadata": {
        "id": "OmoTQrqd6FzW"
      },
      "execution_count": null,
      "outputs": []
    },
    {
      "cell_type": "code",
      "source": [
        "X_data = crime_camden.drop(['crime_category','street_id',\n",
        "                            'ward_name' ,'longitude', 'latitude', 'lsoa', 'total_crime_count_after_two_weeks' ,\n",
        "                            'street_name','epoch', 'ward_code', 'timestamp', 'postcode' ], axis = 1)\n",
        "Y_data = crime_camden[['total_crime_count_after_two_weeks']]"
      ],
      "metadata": {
        "id": "fiFerYf46M73"
      },
      "execution_count": null,
      "outputs": []
    },
    {
      "cell_type": "code",
      "source": [
        "X_train, X_test, Y_train, Y_test = train_test_split(X_data, Y_data, test_size=0.20, random_state=5)"
      ],
      "metadata": {
        "id": "mLNWFlI_7401"
      },
      "execution_count": null,
      "outputs": []
    },
    {
      "cell_type": "code",
      "source": [
        "print(X_train.shape)\n",
        "print(Y_train.shape)\n",
        "\n",
        "print(X_test.shape)\n",
        "print(Y_test.shape)"
      ],
      "metadata": {
        "id": "WWgQun9b8l0K"
      },
      "execution_count": null,
      "outputs": []
    },
    {
      "cell_type": "code",
      "source": [
        "X_train.info()"
      ],
      "metadata": {
        "id": "Cl9tILgxOm8t"
      },
      "execution_count": null,
      "outputs": []
    },
    {
      "cell_type": "markdown",
      "source": [
        "### Linear Regression"
      ],
      "metadata": {
        "id": "0SWzOxIbFMpH"
      }
    },
    {
      "cell_type": "code",
      "source": [
        "regressor = LinearRegression()\n",
        "regressor.fit(X_data, Y_data) #training the algorithm"
      ],
      "metadata": {
        "id": "qPJ9M48279Bg"
      },
      "execution_count": null,
      "outputs": []
    },
    {
      "cell_type": "code",
      "source": [
        "#To retrieve the intercept:\n",
        "print(regressor.intercept_)\n",
        "\n",
        "#For retrieving the slope:\n",
        "print(regressor.coef_)"
      ],
      "metadata": {
        "id": "ykD-jWYB8ANL"
      },
      "execution_count": null,
      "outputs": []
    },
    {
      "cell_type": "code",
      "source": [
        "y_pred = regressor.predict(X_test)"
      ],
      "metadata": {
        "id": "dWHix08s8SK3"
      },
      "execution_count": null,
      "outputs": []
    },
    {
      "cell_type": "code",
      "source": [
        "print('Mean Absolute Error:', metrics.mean_absolute_error(Y_test, y_pred))\n",
        "print('Mean Squared Error:', metrics.mean_squared_error(Y_test, y_pred))\n",
        "print('Root Mean Squared Error:', np.sqrt(metrics.mean_squared_error(Y_test, y_pred)))\n",
        "print('R2 Score', r2_score(Y_test, y_pred))\n",
        "print('Max Error', max_error(Y_test, y_pred))"
      ],
      "metadata": {
        "id": "CY148oQ-8ans"
      },
      "execution_count": null,
      "outputs": []
    },
    {
      "cell_type": "code",
      "source": [
        "predictionDf = pd.DataFrame({'Actual': Y_test.to_numpy().flatten(), 'Predicted': y_pred.flatten()})\n",
        "predictionDf.sample(5)"
      ],
      "metadata": {
        "id": "3jkSEmA38fV5"
      },
      "execution_count": null,
      "outputs": []
    },
    {
      "cell_type": "code",
      "source": [
        "predictionDfSample = predictionDf.sample(50)\n",
        "predictionDfSample.plot(kind='bar',figsize=(16,10))\n",
        "plt.grid(which='major', linestyle='-', linewidth='0.5', color='green')\n",
        "plt.grid(which='minor', linestyle=':', linewidth='0.5', color='black')\n",
        "plt.show()"
      ],
      "metadata": {
        "id": "6uFpE7CU8oJa"
      },
      "execution_count": null,
      "outputs": []
    },
    {
      "cell_type": "code",
      "source": [
        "plt.scatter(X_test['total_crime_count_before_one_month'], Y_test,  color='gray')\n",
        "plt.plot(X_test['total_crime_count_before_one_month'], y_pred, color='red', linewidth=1)\n",
        "plt.show()"
      ],
      "metadata": {
        "id": "8rm7UT8O8rpE"
      },
      "execution_count": null,
      "outputs": []
    },
    {
      "cell_type": "markdown",
      "source": [
        "### Linear Regression Scaled"
      ],
      "metadata": {
        "id": "BDsNTxKHnwAU"
      }
    },
    {
      "cell_type": "code",
      "source": [
        "scaler = StandardScaler()\n",
        "scaled_X_train = scaler.fit_transform(X_train)\n",
        "scaled_X_test = scaler.fit_transform(X_test)"
      ],
      "metadata": {
        "id": "Z7dYnSiBnvNo"
      },
      "execution_count": null,
      "outputs": []
    },
    {
      "cell_type": "code",
      "source": [
        "regressor = LinearRegression()\n",
        "regressor.fit(scaled_X_train, np.ravel(Y_train,order='C')) #training the algorithm"
      ],
      "metadata": {
        "id": "Jgk9nJXSn3qA"
      },
      "execution_count": null,
      "outputs": []
    },
    {
      "cell_type": "code",
      "source": [
        "y_pred = regressor.predict(scaled_X_test)"
      ],
      "metadata": {
        "id": "9NE_Bo45n8Xx"
      },
      "execution_count": null,
      "outputs": []
    },
    {
      "cell_type": "code",
      "source": [
        "print('Mean Absolute Error:', metrics.mean_absolute_error(np.ravel(Y_test,order='C'), y_pred))\n",
        "print('Mean Squared Error:', metrics.mean_squared_error(np.ravel(Y_test,order='C'), y_pred))\n",
        "print('Root Mean Squared Error:', np.sqrt(metrics.mean_squared_error(np.ravel(Y_test,order='C'), y_pred)))\n",
        "print('R2 Score', r2_score(np.ravel(Y_test,order='C'), y_pred))\n",
        "print('Max Error', max_error(Y_test, y_pred))"
      ],
      "metadata": {
        "id": "C64Z-9Vqn-LU"
      },
      "execution_count": null,
      "outputs": []
    },
    {
      "cell_type": "markdown",
      "source": [
        "### Logistic Regression"
      ],
      "metadata": {
        "id": "7cZ_hkD1B_xA"
      }
    },
    {
      "cell_type": "code",
      "source": [
        "import numpy as np\n",
        "from sklearn.model_selection import train_test_split\n",
        "from sklearn.linear_model import LogisticRegression\n",
        "from sklearn.metrics import confusion_matrix, accuracy_score\n",
        "from sklearn.preprocessing import MinMaxScaler\n",
        "from sklearn.preprocessing import StandardScaler"
      ],
      "metadata": {
        "id": "hNjOvCf2CEd_"
      },
      "execution_count": null,
      "outputs": []
    },
    {
      "cell_type": "code",
      "source": [
        "scaler = StandardScaler()\n",
        "scaled_X_train = scaler.fit_transform(X_train)\n",
        "scaled_X_test = scaler.fit_transform(X_test)"
      ],
      "metadata": {
        "id": "aCL0jYmdEnj2"
      },
      "execution_count": null,
      "outputs": []
    },
    {
      "cell_type": "code",
      "source": [
        "logisticRegr = LogisticRegression(solver='sag', max_iter=10000)"
      ],
      "metadata": {
        "id": "MsTdMITiB_GM"
      },
      "execution_count": null,
      "outputs": []
    },
    {
      "cell_type": "code",
      "source": [
        "logisticRegr.fit(scaled_X_train, np.ravel(Y_train,order='C'))"
      ],
      "metadata": {
        "id": "yHaEDw_SCGQS"
      },
      "execution_count": null,
      "outputs": []
    },
    {
      "cell_type": "code",
      "source": [
        "y_pred = logisticRegr.predict(scaled_X_test)"
      ],
      "metadata": {
        "id": "ekGZy2HLCLMX"
      },
      "execution_count": null,
      "outputs": []
    },
    {
      "cell_type": "code",
      "source": [
        "print('Mean Absolute Error:', metrics.mean_absolute_error(np.ravel(Y_test,order='C'), y_pred))\n",
        "print('Mean Squared Error:', metrics.mean_squared_error(np.ravel(Y_test,order='C'), y_pred))\n",
        "print('Root Mean Squared Error:', np.sqrt(metrics.mean_squared_error(np.ravel(Y_test,order='C'), y_pred)))\n",
        "print('R2 Score', r2_score(np.ravel(Y_test,order='C'), y_pred))\n",
        "print('Max Error', max_error(Y_test, y_pred))"
      ],
      "metadata": {
        "id": "bKuZzDngCVJv"
      },
      "execution_count": null,
      "outputs": []
    },
    {
      "cell_type": "markdown",
      "source": [
        "### XGBoost"
      ],
      "metadata": {
        "id": "Cgaip-DrPzgf"
      }
    },
    {
      "cell_type": "code",
      "source": [
        "import xgboost as xgb\n",
        "from sklearn.datasets import load_boston\n",
        "from sklearn.model_selection import train_test_split\n",
        "from sklearn.model_selection import cross_val_score, KFold\n",
        "from sklearn.metrics import mean_squared_error\n",
        "import matplotlib.pyplot as plt"
      ],
      "metadata": {
        "id": "1gGvDoV1P06l"
      },
      "execution_count": null,
      "outputs": []
    },
    {
      "cell_type": "code",
      "source": [
        "scaler = StandardScaler()\n",
        "scaled_X_train = scaler.fit_transform(X_train)\n",
        "scaled_X_test = scaler.fit_transform(X_test)"
      ],
      "metadata": {
        "id": "IOfiHqi6ncCn"
      },
      "execution_count": null,
      "outputs": []
    },
    {
      "cell_type": "code",
      "source": [
        "xgb = XGBClassifier(learning_rate = 0.05, max_depth = 5, n_estimators = 5 )\n",
        "xgb.fit(scaled_X_train, np.ravel(Y_train,order='C') )"
      ],
      "metadata": {
        "id": "agNasCxqRTiz"
      },
      "execution_count": null,
      "outputs": []
    },
    {
      "cell_type": "code",
      "source": [
        "y_pred = xgb.predict(scaled_X_test)"
      ],
      "metadata": {
        "id": "w5hJqAnQScwg"
      },
      "execution_count": null,
      "outputs": []
    },
    {
      "cell_type": "code",
      "source": [
        "print('Mean Absolute Error:', metrics.mean_absolute_error(np.ravel(Y_test,order='C'), y_pred))\n",
        "print('Mean Squared Error:', metrics.mean_squared_error(np.ravel(Y_test,order='C'), y_pred))\n",
        "print('Root Mean Squared Error:', np.sqrt(metrics.mean_squared_error(np.ravel(Y_test,order='C'), y_pred)))\n",
        "print('R2 Score', r2_score(np.ravel(Y_test,order='C'), y_pred))\n",
        "print('Max Error', max_error(Y_test, y_pred))"
      ],
      "metadata": {
        "id": "VRbeAweSRyIo"
      },
      "execution_count": null,
      "outputs": []
    }
  ]
}